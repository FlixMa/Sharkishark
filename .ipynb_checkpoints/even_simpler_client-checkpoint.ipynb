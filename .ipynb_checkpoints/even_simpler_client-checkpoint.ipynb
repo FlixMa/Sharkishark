{
 "cells": [
  {
   "cell_type": "code",
   "execution_count": 1,
   "metadata": {},
   "outputs": [],
   "source": [
    "import socket\n",
    "\n",
    "HOST = 'localhost'\n",
    "PORT = 13052"
   ]
  },
  {
   "cell_type": "code",
   "execution_count": 2,
   "metadata": {},
   "outputs": [],
   "source": [
    "def receive(sock):\n",
    "    data = \"\"\n",
    "    try:\n",
    "        while 1:\n",
    "            b = sock.recv(1)\n",
    "\n",
    "            if not b:\n",
    "                print(b)\n",
    "                break\n",
    "\n",
    "            data += b.decode('utf8')\n",
    "    except socket.timeout:\n",
    "        pass\n",
    "    return data"
   ]
  },
  {
   "cell_type": "code",
   "execution_count": 11,
   "metadata": {},
   "outputs": [],
   "source": [
    "import threading\n",
    "\n",
    "class StoppableThread(threading.Thread):\n",
    "    '''\n",
    "        Thread class with a stop() method. The thread itself has to check regularly for the stopped() condition.\n",
    "    '''\n",
    "\n",
    "    def __init__(self):\n",
    "        super(StoppableThread, self).__init__()\n",
    "        self._stop_event = threading.Event()\n",
    "\n",
    "    def stop(self):\n",
    "        self._stop_event.set()\n",
    "\n",
    "    def is_stopped(self):\n",
    "        return self._stop_event.is_set()\n",
    "\n",
    "    \n",
    "    \n",
    "    \n",
    "class GameLogic():\n",
    "    \n",
    "    def onStatusUpdate(gamefield):\n",
    "        print('-> onStatusUpdate()')\n",
    "        \n",
    "    def onMoveRequest():\n",
    "        print('-> onMoveRequest()')\n",
    "\n",
    "\n",
    "class Client(StoppableThread):\n",
    "\n",
    "    def __init__(self, host, port, gameLogic):\n",
    "        super().__init__()\n",
    "        self.gameLogic = gameLogic\n",
    "        \n",
    "        self.sock = socket.socket()\n",
    "        self.sock.connect((host, port))\n",
    "    \n",
    "    def run(self):\n",
    "        self.sock.settimeout(0.5)\n",
    "        with self.sock:\n",
    "            while not self.is_stopped():\n",
    "                try:\n",
    "                    message = receive(self.sock)\n",
    "                    self.parseMessage(message)\n",
    "                except socket.error:\n",
    "                    pass\n",
    "                except Exception as ex:\n",
    "                    print(ex)\n",
    "                    raise ex\n",
    "    \n",
    "    def parseMessage(self, message):\n",
    "        print('-> parseMessage(%s)' % message)\n",
    "    \n",
    "    def send(self, message):\n",
    "        self.sock.send(message.encode('utf8'))\n",
    "\n",
    "    def move(self, roomId, posX, posY, directionString):\n",
    "\n",
    "        #let hints = move.debugHints.reduce(into: \"\") { $0 += \"<hint content=\\\"\\($1)\\\" />\" }\n",
    "        #let mv = \"<data class=\\\"move\\\" x=\\\"\\(move.x)\\\" y=\\\"\\(move.y)\\\" direction=\\\"\\(move.direction)\\\">\\(hints)</data>\"\n",
    "        #self.socket.send(message: \"<room roomId=\\\"\\(self.roomId!)\\\">\\(mv)</room>\")\n",
    "        hintsXML = ''\n",
    "        self.send('<room roomId=\"%s\"><data class=\"move\" x=\"%d\" y=\"%d\" direction=\"%s\">%s</data></room>' % (roomId, posX, posY, directionString, hintsXML))\n",
    "        \n",
    "    "
   ]
  },
  {
   "cell_type": "code",
   "execution_count": 12,
   "metadata": {},
   "outputs": [
    {
     "data": {
      "application/vnd.jupyter.widget-view+json": {
       "model_id": "16391548eaac477da3706b12d77d4c1a",
       "version_major": 2,
       "version_minor": 0
      },
      "text/plain": [
       "ToggleButton(value=False, description='Start Client')"
      ]
     },
     "metadata": {},
     "output_type": "display_data"
    },
    {
     "name": "stdout",
     "output_type": "stream",
     "text": [
      "-> parseMessage()\n",
      "-> parseMessage()\n",
      "-> parseMessage()\n",
      "-> parseMessage()\n",
      "-> parseMessage()\n",
      "-> parseMessage()\n",
      "-> parseMessage()\n",
      "-> parseMessage()\n",
      "-> parseMessage()\n",
      "-> parseMessage()\n",
      "-> parseMessage()\n",
      "-> parseMessage()\n"
     ]
    }
   ],
   "source": [
    "import ipywidgets as widgets\n",
    "from IPython.display import display\n",
    "\n",
    "client = None\n",
    "def toggleState(value):\n",
    "    global client\n",
    "    \n",
    "    if value.new:\n",
    "        client = Client(HOST, PORT, GameLogic())\n",
    "        client.start()\n",
    "        value.owner.description = 'Stop Client'\n",
    "    else:\n",
    "        client.stop()\n",
    "        value.owner.description = 'Start Client'\n",
    "        \n",
    "toggle = widgets.ToggleButton(description='Start Client', value=False)\n",
    "#server_toggle.value = True\n",
    "toggle.observe(toggleState, names='value')\n",
    "\n",
    "display(toggle)"
   ]
  },
  {
   "cell_type": "code",
   "execution_count": 14,
   "metadata": {
    "scrolled": false
   },
   "outputs": [
    {
     "name": "stdout",
     "output_type": "stream",
     "text": [
      "-> parseMessage()\n"
     ]
    },
    {
     "data": {
      "text/plain": [
       "46"
      ]
     },
     "execution_count": 14,
     "metadata": {},
     "output_type": "execute_result"
    },
    {
     "name": "stdout",
     "output_type": "stream",
     "text": [
      "-> parseMessage(<protocol>\n",
      "  <joined roomId=\"55b6a2a0-db45-4cf4-9032-e384af7551bb\"/>\n",
      "  <room roomId=\"55b6a2a0-db45-4cf4-9032-e384af7551bb\">\n",
      "    <data class=\"welcomeMessage\" color=\"red\"/>\n",
      "  </room>\n",
      "  <room roomId=\"55b6a2a0-db45-4cf4-9032-e384af7551bb\">\n",
      "    <data class=\"memento\">\n",
      "      <state class=\"sc.plugin2019.GameState\" startPlayerColor=\"RED\" currentPlayerColor=\"RED\" turn=\"0\">\n",
      "        <red displayName=\"Unknown\" color=\"RED\"/>\n",
      "        <blue displayName=\"Unknown\" color=\"BLUE\"/>\n",
      "        <board>\n",
      "          <fields>\n",
      "            <field x=\"0\" y=\"0\" state=\"EMPTY\"/>\n",
      "            <field x=\"0\" y=\"1\" state=\"RED\"/>\n",
      "            <field x=\"0\" y=\"2\" state=\"RED\"/>\n",
      "            <field x=\"0\" y=\"3\" state=\"RED\"/>\n",
      "            <field x=\"0\" y=\"4\" state=\"RED\"/>\n",
      "            <field x=\"0\" y=\"5\" state=\"RED\"/>\n",
      "            <field x=\"0\" y=\"6\" state=\"RED\"/>\n",
      "            <field x=\"0\" y=\"7\" state=\"RED\"/>\n",
      "            <field x=\"0\" y=\"8\" state=\"RED\"/>\n",
      "            <field x=\"0\" y=\"9\" state=\"EMPTY\"/>\n",
      "          </fields>\n",
      "          <fields>\n",
      "            <field x=\"1\" y=\"0\" state=\"BLUE\"/>\n",
      "            <field x=\"1\" y=\"1\" state=\"EMPTY\"/>\n",
      "            <field x=\"1\" y=\"2\" state=\"EMPTY\"/>\n",
      "            <field x=\"1\" y=\"3\" state=\"EMPTY\"/>\n",
      "            <field x=\"1\" y=\"4\" state=\"EMPTY\"/>\n",
      "            <field x=\"1\" y=\"5\" state=\"EMPTY\"/>\n",
      "            <field x=\"1\" y=\"6\" state=\"EMPTY\"/>\n",
      "            <field x=\"1\" y=\"7\" state=\"EMPTY\"/>\n",
      "            <field x=\"1\" y=\"8\" state=\"EMPTY\"/>\n",
      "            <field x=\"1\" y=\"9\" state=\"BLUE\"/>\n",
      "          </fields>\n",
      "          <fields>\n",
      "            <field x=\"2\" y=\"0\" state=\"BLUE\"/>\n",
      "            <field x=\"2\" y=\"1\" state=\"EMPTY\"/>\n",
      "            <field x=\"2\" y=\"2\" state=\"EMPTY\"/>\n",
      "            <field x=\"2\" y=\"3\" state=\"EMPTY\"/>\n",
      "            <field x=\"2\" y=\"4\" state=\"EMPTY\"/>\n",
      "            <field x=\"2\" y=\"5\" state=\"EMPTY\"/>\n",
      "            <field x=\"2\" y=\"6\" state=\"EMPTY\"/>\n",
      "            <field x=\"2\" y=\"7\" state=\"EMPTY\"/>\n",
      "            <field x=\"2\" y=\"8\" state=\"EMPTY\"/>\n",
      "            <field x=\"2\" y=\"9\" state=\"BLUE\"/>\n",
      "          </fields>\n",
      "          <fields>\n",
      "            <field x=\"3\" y=\"0\" state=\"BLUE\"/>\n",
      "            <field x=\"3\" y=\"1\" state=\"EMPTY\"/>\n",
      "            <field x=\"3\" y=\"2\" state=\"OBSTRUCTED\"/>\n",
      "            <field x=\"3\" y=\"3\" state=\"EMPTY\"/>\n",
      "            <field x=\"3\" y=\"4\" state=\"EMPTY\"/>\n",
      "            <field x=\"3\" y=\"5\" state=\"EMPTY\"/>\n",
      "            <field x=\"3\" y=\"6\" state=\"EMPTY\"/>\n",
      "            <field x=\"3\" y=\"7\" state=\"EMPTY\"/>\n",
      "            <field x=\"3\" y=\"8\" state=\"EMPTY\"/>\n",
      "            <field x=\"3\" y=\"9\" state=\"BLUE\"/>\n",
      "          </fields>\n",
      "          <fields>\n",
      "            <field x=\"4\" y=\"0\" state=\"BLUE\"/>\n",
      "            <field x=\"4\" y=\"1\" state=\"EMPTY\"/>\n",
      "            <field x=\"4\" y=\"2\" state=\"EMPTY\"/>\n",
      "            <field x=\"4\" y=\"3\" state=\"EMPTY\"/>\n",
      "            <field x=\"4\" y=\"4\" state=\"EMPTY\"/>\n",
      "            <field x=\"4\" y=\"5\" state=\"EMPTY\"/>\n",
      "            <field x=\"4\" y=\"6\" state=\"OBSTRUCTED\"/>\n",
      "            <field x=\"4\" y=\"7\" state=\"EMPTY\"/>\n",
      "            <field x=\"4\" y=\"8\" state=\"EMPTY\"/>\n",
      "            <field x=\"4\" y=\"9\" state=\"BLUE\"/>\n",
      "          </fields>\n",
      "          <fields>\n",
      "            <field x=\"5\" y=\"0\" state=\"BLUE\"/>\n",
      "            <field x=\"5\" y=\"1\" state=\"EMPTY\"/>\n",
      "            <field x=\"5\" y=\"2\" state=\"EMPTY\"/>\n",
      "            <field x=\"5\" y=\"3\" state=\"EMPTY\"/>\n",
      "            <field x=\"5\" y=\"4\" state=\"EMPTY\"/>\n",
      "            <field x=\"5\" y=\"5\" state=\"EMPTY\"/>\n",
      "            <field x=\"5\" y=\"6\" state=\"EMPTY\"/>\n",
      "            <field x=\"5\" y=\"7\" state=\"EMPTY\"/>\n",
      "            <field x=\"5\" y=\"8\" state=\"EMPTY\"/>\n",
      "            <field x=\"5\" y=\"9\" state=\"BLUE\"/>\n",
      "          </fields>\n",
      "          <fields>\n",
      "            <field x=\"6\" y=\"0\" state=\"BLUE\"/>\n",
      "            <field x=\"6\" y=\"1\" state=\"EMPTY\"/>\n",
      "            <field x=\"6\" y=\"2\" state=\"EMPTY\"/>\n",
      "            <field x=\"6\" y=\"3\" state=\"EMPTY\"/>\n",
      "            <field x=\"6\" y=\"4\" state=\"EMPTY\"/>\n",
      "            <field x=\"6\" y=\"5\" state=\"EMPTY\"/>\n",
      "            <field x=\"6\" y=\"6\" state=\"EMPTY\"/>\n",
      "            <field x=\"6\" y=\"7\" state=\"EMPTY\"/>\n",
      "            <field x=\"6\" y=\"8\" state=\"EMPTY\"/>\n",
      "            <field x=\"6\" y=\"9\" state=\"BLUE\"/>\n",
      "          </fields>\n",
      "          <fields>\n",
      "            <field x=\"7\" y=\"0\" state=\"BLUE\"/>\n",
      "            <field x=\"7\" y=\"1\" state=\"EMPTY\"/>\n",
      "            <field x=\"7\" y=\"2\" state=\"EMPTY\"/>\n",
      "            <field x=\"7\" y=\"3\" state=\"EMPTY\"/>\n",
      "            <field x=\"7\" y=\"4\" state=\"EMPTY\"/>\n",
      "            <field x=\"7\" y=\"5\" state=\"EMPTY\"/>\n",
      "            <field x=\"7\" y=\"6\" state=\"EMPTY\"/>\n",
      "            <field x=\"7\" y=\"7\" state=\"EMPTY\"/>\n",
      "            <field x=\"7\" y=\"8\" state=\"EMPTY\"/>\n",
      "            <field x=\"7\" y=\"9\" state=\"BLUE\"/>\n",
      "          </fields>\n",
      "          <fields>\n",
      "            <field x=\"8\" y=\"0\" state=\"BLUE\"/>\n",
      "            <field x=\"8\" y=\"1\" state=\"EMPTY\"/>\n",
      "            <field x=\"8\" y=\"2\" state=\"EMPTY\"/>\n",
      "            <field x=\"8\" y=\"3\" state=\"EMPTY\"/>\n",
      "            <field x=\"8\" y=\"4\" state=\"EMPTY\"/>\n",
      "            <field x=\"8\" y=\"5\" state=\"EMPTY\"/>\n",
      "            <field x=\"8\" y=\"6\" state=\"EMPTY\"/>\n",
      "            <field x=\"8\" y=\"7\" state=\"EMPTY\"/>\n",
      "            <field x=\"8\" y=\"8\" state=\"EMPTY\"/>\n",
      "            <field x=\"8\" y=\"9\" state=\"BLUE\"/>\n",
      "          </fields>\n",
      "          <fields>\n",
      "            <field x=\"9\" y=\"0\" state=\"EMPTY\"/>\n",
      "            <field x=\"9\" y=\"1\" state=\"RED\"/>\n",
      "            <field x=\"9\" y=\"2\" state=\"RED\"/>\n",
      "            <field x=\"9\" y=\"3\" state=\"RED\"/>\n",
      "            <field x=\"9\" y=\"4\" state=\"RED\"/>\n",
      "            <field x=\"9\" y=\"5\" state=\"RED\"/>\n",
      "            <field x=\"9\" y=\"6\" state=\"RED\"/>\n",
      "            <field x=\"9\" y=\"7\" state=\"RED\"/>\n",
      "            <field x=\"9\" y=\"8\" state=\"RED\"/>\n",
      "            <field x=\"9\" y=\"9\" state=\"EMPTY\"/>\n",
      "          </fields>\n",
      "        </board>\n",
      "      </state>\n",
      "    </data>\n",
      "  </room>\n",
      "  <room roomId=\"55b6a2a0-db45-4cf4-9032-e384af7551bb\">\n",
      "    <data class=\"sc.framework.plugins.protocol.MoveRequest\"/>\n",
      "  </room>)\n",
      "-> parseMessage()\n",
      "-> parseMessage()\n",
      "-> parseMessage()\n",
      "-> parseMessage()\n",
      "-> parseMessage()\n",
      "-> parseMessage()\n",
      "-> parseMessage()\n",
      "-> parseMessage()\n",
      "-> parseMessage()\n",
      "-> parseMessage()\n",
      "-> parseMessage()\n",
      "-> parseMessage()\n",
      "-> parseMessage()\n",
      "-> parseMessage()\n",
      "-> parseMessage()\n",
      "-> parseMessage()\n",
      "-> parseMessage()\n",
      "-> parseMessage()\n",
      "'utf-8' codec can't decode byte 0xe2 in position 0: unexpected end of data\n"
     ]
    },
    {
     "name": "stderr",
     "output_type": "stream",
     "text": [
      "Exception in thread Thread-10:\n",
      "Traceback (most recent call last):\n",
      "  File \"/usr/local/Cellar/python/3.7.0/Frameworks/Python.framework/Versions/3.7/lib/python3.7/threading.py\", line 917, in _bootstrap_inner\n",
      "    self.run()\n",
      "  File \"<ipython-input-11-59cf1cf31b48>\", line 50, in run\n",
      "    raise ex\n",
      "  File \"<ipython-input-11-59cf1cf31b48>\", line 44, in run\n",
      "    message = receive(self.sock)\n",
      "  File \"<ipython-input-2-bdd779f1f32b>\", line 11, in receive\n",
      "    data += b.decode('utf8')\n",
      "UnicodeDecodeError: 'utf-8' codec can't decode byte 0xe2 in position 0: unexpected end of data\n",
      "\n"
     ]
    }
   ],
   "source": [
    "client.sock.send('<protocol><join gameType=\"swc_2019_piranhas\"/>'.encode('utf8'))\n",
    "#dataFromServer = receive()\n",
    "#roomId = dataFromServer.split('\"')[1]\n",
    "#print(dataFromServer)"
   ]
  },
  {
   "cell_type": "code",
   "execution_count": null,
   "metadata": {
    "scrolled": true
   },
   "outputs": [],
   "source": [
    "print(receive())"
   ]
  },
  {
   "cell_type": "code",
   "execution_count": null,
   "metadata": {},
   "outputs": [],
   "source": [
    "move(roomId, 0, 2, 'DOWN_RIGHT')"
   ]
  },
  {
   "cell_type": "code",
   "execution_count": null,
   "metadata": {
    "scrolled": false
   },
   "outputs": [],
   "source": [
    "import declxml as xml\n",
    "joined_processor = xml.string('joined', attribute='roomId')\n",
    "room_processor = xml.dictionary('room', [\n",
    "    xml.string('data', attribute='class'),\n",
    "    xml.string('data', attribute='color', required=False, default=None),\n",
    "    xml.dictionary('data', [\n",
    "        xml.dictionary('state', [\n",
    "            \n",
    "        ], required=False)\n",
    "    ])\n",
    "])\n",
    "protocol_processor = xml.dictionary('protocol', [\n",
    "    joined_processor,\n",
    "    xml.string('room', attribute='roomId'),\n",
    "    xml.array(room_processor)\n",
    "])\n",
    "\n",
    "root_room_processor = xml.dictionary('root', [\n",
    "    xml.array(room_processor, alias='rooms')\n",
    "])\n",
    "\n",
    "xml.parse_from_string(root_room_processor, '<root>' + '\\n'.join(dataFromServer.split('\\n')[2:]) + '</root>')"
   ]
  },
  {
   "cell_type": "code",
   "execution_count": null,
   "metadata": {
    "scrolled": false
   },
   "outputs": [],
   "source": [
    "print('<root>' + '\\n'.join(dataFromServer.split('\\n')[2:]) + '</root>')"
   ]
  },
  {
   "cell_type": "code",
   "execution_count": null,
   "metadata": {},
   "outputs": [],
   "source": [
    "import re"
   ]
  },
  {
   "cell_type": "code",
   "execution_count": null,
   "metadata": {
    "scrolled": true
   },
   "outputs": [],
   "source": [
    "re.match(r'<room([\\s\\S]+?)<\\/room>', 'hallo<room arg=\"hallo\">hello\\n\\t</room>', re.S|re.M)"
   ]
  },
  {
   "cell_type": "code",
   "execution_count": null,
   "metadata": {
    "scrolled": false
   },
   "outputs": [],
   "source": [
    "for i, line in enumerate(dataFromServer.split('\\n')):\n",
    "    print(i, line)"
   ]
  },
  {
   "cell_type": "code",
   "execution_count": null,
   "metadata": {},
   "outputs": [],
   "source": [
    "re.match(r'<room([\\s\\S]+?)</room>', dataFromServer, re.S|re.M)"
   ]
  },
  {
   "cell_type": "code",
   "execution_count": null,
   "metadata": {
    "scrolled": true
   },
   "outputs": [],
   "source": [
    "dataFromServer"
   ]
  },
  {
   "cell_type": "code",
   "execution_count": null,
   "metadata": {},
   "outputs": [],
   "source": [
    "for group in re.match(r'((?:.)*?(<room.+?</room>)(?:.)*?)+', dataFromServer, re.S|re.M).groups():\n",
    "    print(group)"
   ]
  },
  {
   "cell_type": "code",
   "execution_count": null,
   "metadata": {},
   "outputs": [],
   "source": []
  }
 ],
 "metadata": {
  "kernelspec": {
   "display_name": "Python 3",
   "language": "python",
   "name": "python3"
  },
  "language_info": {
   "codemirror_mode": {
    "name": "ipython",
    "version": 3
   },
   "file_extension": ".py",
   "mimetype": "text/x-python",
   "name": "python",
   "nbconvert_exporter": "python",
   "pygments_lexer": "ipython3",
   "version": "3.7.0"
  }
 },
 "nbformat": 4,
 "nbformat_minor": 2
}
