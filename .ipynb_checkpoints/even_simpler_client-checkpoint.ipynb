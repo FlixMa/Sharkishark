{
 "cells": [
  {
   "cell_type": "code",
   "execution_count": 1,
   "metadata": {},
   "outputs": [],
   "source": [
    "import socket\n",
    "\n",
    "HOST = 'localhost'\n",
    "PORT = 13051"
   ]
  },
  {
   "cell_type": "code",
   "execution_count": 2,
   "metadata": {},
   "outputs": [],
   "source": [
    "sock = socket.socket()\n",
    "sock.connect((HOST, PORT))\n",
    "sock.settimeout(0.5)"
   ]
  },
  {
   "cell_type": "code",
   "execution_count": 3,
   "metadata": {},
   "outputs": [
    {
     "data": {
      "text/plain": [
       "46"
      ]
     },
     "execution_count": 3,
     "metadata": {},
     "output_type": "execute_result"
    }
   ],
   "source": [
    "sock.send('<protocol><join gameType=\"swc_2019_piranhas\"/>'.encode('utf8'))"
   ]
  },
  {
   "cell_type": "code",
   "execution_count": 4,
   "metadata": {},
   "outputs": [],
   "source": [
    "def receive():\n",
    "    data = \"\"\n",
    "    try:\n",
    "        while 1:\n",
    "            b = sock.recv(1)\n",
    "\n",
    "            if not b:\n",
    "                print(b)\n",
    "                break\n",
    "\n",
    "            data += b.decode('utf8')\n",
    "    except socket.timeout:\n",
    "        pass\n",
    "    return data"
   ]
  },
  {
   "cell_type": "code",
   "execution_count": 5,
   "metadata": {},
   "outputs": [],
   "source": [
    "def send(message):\n",
    "    sock.send(message.encode('utf8'))\n",
    "\n",
    "def move(roomId, posX, posY, directionString):\n",
    "\n",
    "    #let hints = move.debugHints.reduce(into: \"\") { $0 += \"<hint content=\\\"\\($1)\\\" />\" }\n",
    "    #let mv = \"<data class=\\\"move\\\" x=\\\"\\(move.x)\\\" y=\\\"\\(move.y)\\\" direction=\\\"\\(move.direction)\\\">\\(hints)</data>\"\n",
    "    #self.socket.send(message: \"<room roomId=\\\"\\(self.roomId!)\\\">\\(mv)</room>\")\n",
    "    hintsXML = ''\n",
    "    send('<room roomId=\"%s\"><data class=\"move\" x=\"%d\" y=\"%d\" direction=\"%s\">%s</data></room>' % (roomId, posX, posY, directionString, hintsXML))"
   ]
  },
  {
   "cell_type": "code",
   "execution_count": 6,
   "metadata": {
    "scrolled": true
   },
   "outputs": [
    {
     "name": "stdout",
     "output_type": "stream",
     "text": [
      "<protocol>\n",
      "  <joined roomId=\"e30b648b-ed34-4283-b253-0d2312704011\"/>\n"
     ]
    }
   ],
   "source": [
    "dataFromServer = receive()\n",
    "roomId = dataFromServer.split('\"')[1]\n",
    "print(dataFromServer)"
   ]
  },
  {
   "cell_type": "code",
   "execution_count": 7,
   "metadata": {},
   "outputs": [],
   "source": [
    "move(roomId, 0, 2, 'DOWN_RIGHT')"
   ]
  },
  {
   "cell_type": "code",
   "execution_count": 8,
   "metadata": {},
   "outputs": [
    {
     "name": "stdout",
     "output_type": "stream",
     "text": [
      "b''\n"
     ]
    },
    {
     "data": {
      "text/plain": [
       "'\\n  <room roomId=\"e30b648b-ed34-4283-b253-0d2312704011\">\\n    <data class=\"error\" message=\"It&apos;s not your turn yet.\">\\n      <originalRequest class=\"move\" x=\"0\" y=\"2\" direction=\"DOWN_RIGHT\"/>\\n    </data>\\n  </room>\\n  <sc.protocol.responses.CloseConnection/>\\n</protocol>'"
      ]
     },
     "execution_count": 8,
     "metadata": {},
     "output_type": "execute_result"
    }
   ],
   "source": [
    "receive()"
   ]
  },
  {
   "cell_type": "code",
   "execution_count": null,
   "metadata": {},
   "outputs": [],
   "source": []
  }
 ],
 "metadata": {
  "kernelspec": {
   "display_name": "Python 3",
   "language": "python",
   "name": "python3"
  },
  "language_info": {
   "codemirror_mode": {
    "name": "ipython",
    "version": 3
   },
   "file_extension": ".py",
   "mimetype": "text/x-python",
   "name": "python",
   "nbconvert_exporter": "python",
   "pygments_lexer": "ipython3",
   "version": "3.7.0"
  }
 },
 "nbformat": 4,
 "nbformat_minor": 2
}
