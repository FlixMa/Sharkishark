{
 "cells": [
  {
   "cell_type": "code",
   "execution_count": 1,
   "metadata": {},
   "outputs": [],
   "source": [
    "import core\n",
    "import time\n",
    "import numpy as np"
   ]
  },
  {
   "cell_type": "code",
   "execution_count": 2,
   "metadata": {},
   "outputs": [],
   "source": [
    "class EvenSimplerGameLogicDelegate(core.logic.GameLogicDelegate):\n",
    "    \n",
    "    def onGameStateUpdate(self, gameState):\n",
    "        super().onGameStateUpdate(gameState)\n",
    "        self.currentGameState = gameState\n",
    "        \n",
    "    def onMoveRequest(self):\n",
    "        super().onMoveRequest()\n",
    "        if self.currentGameState is None:\n",
    "            print('there is no field')\n",
    "            return None\n",
    "        else:\n",
    "            print('issuing move')\n",
    "            \n",
    "            \n",
    "            board = self.currentGameState.board\n",
    "            \n",
    "            myFieldState = FieldState.fromPlayerColor(GameSettings.ourColor)\n",
    "            \n",
    "            idx = np.argwhere(board, myFieldState)\n",
    "            print(idx)\n",
    "            \n",
    "            \n",
    "            \n",
    "            \n",
    "            return Move(1, 0, Direction.UP)\n",
    "        "
   ]
  },
  {
   "cell_type": "code",
   "execution_count": 3,
   "metadata": {
    "scrolled": false
   },
   "outputs": [
    {
     "name": "stdout",
     "output_type": "stream",
     "text": [
      "name 'GameSettings' is not defined\n"
     ]
    },
    {
     "name": "stderr",
     "output_type": "stream",
     "text": [
      "Exception in thread Thread-4:\n",
      "Traceback (most recent call last):\n",
      "  File \"/usr/local/Cellar/python/3.7.0/Frameworks/Python.framework/Versions/3.7/lib/python3.7/threading.py\", line 917, in _bootstrap_inner\n",
      "    self.run()\n",
      "  File \"/Users/Felix/Documents/Entwickler/PWB_2019/reinforcement_learning/core/communication/AsynchronousSocketClient.py\", line 57, in run\n",
      "    raise ex\n",
      "  File \"/Users/Felix/Documents/Entwickler/PWB_2019/reinforcement_learning/core/communication/AsynchronousSocketClient.py\", line 52, in run\n",
      "    self.onMessage(message)\n",
      "  File \"/Users/Felix/Documents/Entwickler/PWB_2019/reinforcement_learning/core/communication/GameClient.py\", line 16, in onMessage\n",
      "    settingsChanged, (gameStateChanged, state), moveRequestIssued = Parser.parse(message)\n",
      "  File \"/Users/Felix/Documents/Entwickler/PWB_2019/reinforcement_learning/core/parsing/Parser.py\", line 22, in parse\n",
      "    settingsChanged = Parser.parseRoomId(soup) or settingsChanged\n",
      "  File \"/Users/Felix/Documents/Entwickler/PWB_2019/reinforcement_learning/core/parsing/Parser.py\", line 59, in parseRoomId\n",
      "    changed = roomId != GameSettings.roomId\n",
      "NameError: name 'GameSettings' is not defined\n",
      "\n"
     ]
    }
   ],
   "source": [
    "gameLogic = EvenSimplerGameLogicDelegate()\n",
    "gameClient = core.communication.GameClient('127.0.0.1', 13053, gameLogic)\n",
    "\n",
    "gameClient.start()\n",
    "time.sleep(1)\n",
    "gameClient.join()\n",
    "\n",
    "time.sleep(15)\n",
    "gameClient.stop()"
   ]
  },
  {
   "cell_type": "code",
   "execution_count": null,
   "metadata": {},
   "outputs": [],
   "source": []
  }
 ],
 "metadata": {
  "kernelspec": {
   "display_name": "Python 3",
   "language": "python",
   "name": "python3"
  },
  "language_info": {
   "codemirror_mode": {
    "name": "ipython",
    "version": 3
   },
   "file_extension": ".py",
   "mimetype": "text/x-python",
   "name": "python",
   "nbconvert_exporter": "python",
   "pygments_lexer": "ipython3",
   "version": "3.7.0"
  }
 },
 "nbformat": 4,
 "nbformat_minor": 2
}
