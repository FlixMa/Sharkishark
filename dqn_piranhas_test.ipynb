{
 "cells": [
  {
   "cell_type": "code",
   "execution_count": 2,
   "metadata": {},
   "outputs": [],
   "source": [
    "import keras\n",
    "import gym\n",
    "import gym_piranhas\n",
    "\n",
    "env = gym.make('piranhas-v0')"
   ]
  },
  {
   "cell_type": "code",
   "execution_count": 5,
   "metadata": {},
   "outputs": [
    {
     "name": "stdout",
     "output_type": "stream",
     "text": [
      "_________________________________________________________________\n",
      "Layer (type)                 Output Shape              Param #   \n",
      "=================================================================\n",
      "permute_3 (Permute)          (None, 10, 10, 3)         0         \n",
      "_________________________________________________________________\n",
      "conv2d_5 (Conv2D)            (None, 6, 6, 32)          2432      \n",
      "_________________________________________________________________\n",
      "conv2d_6 (Conv2D)            (None, 4, 4, 64)          18496     \n",
      "_________________________________________________________________\n",
      "conv2d_7 (Conv2D)            (None, 2, 2, 64)          36928     \n",
      "_________________________________________________________________\n",
      "flatten_2 (Flatten)          (None, 256)               0         \n",
      "_________________________________________________________________\n",
      "dense_2 (Dense)              (None, 128)               32896     \n",
      "_________________________________________________________________\n",
      "dense_3 (Dense)              (None, 3)                 387       \n",
      "=================================================================\n",
      "Total params: 91,139\n",
      "Trainable params: 91,139\n",
      "Non-trainable params: 0\n",
      "_________________________________________________________________\n",
      "None\n"
     ]
    }
   ],
   "source": [
    "from keras.models import Sequential\n",
    "from keras.layers import Convolution2D, Flatten, Dense, Activation, Permute\n",
    "import keras.backend as K\n",
    "\n",
    "INPUT_SHAPE = 10\n",
    "DIMENSIONS  = 3\n",
    "input_shape = (INPUT_SHAPE, INPUT_SHAPE, DIMENSIONS)\n",
    "output_length = 2 + 1  # two coordinates + 1 direction\n",
    "# TODO test with 100 or more outputs (two-hot encoding)\n",
    "\n",
    "model = Sequential()\n",
    "if K.image_dim_ordering() == 'tf':\n",
    "    # tensorflow ordering: (width, height, channels)\n",
    "    model.add(Permute((1, 2, 3), input_shape=input_shape))\n",
    "elif K.image_dim_ordering() == 'th':\n",
    "    # theano ordering: (channels, width, height)\n",
    "    model.add(Permute((3, 1, 2), input_shape=input_shape))\n",
    "else:\n",
    "    raise RuntimeError('Unknown image_dim_ordering')\n",
    "    \n",
    "# The actual network structure\n",
    "# results in a (6 x 6 x 32) output volume\n",
    "model.add(Convolution2D(32, (5, 5), activation='relu', data_format='channels_last'))\n",
    "# results in a (4 x 4 x 64) output volume\n",
    "model.add(Convolution2D(64, (3, 3), activation='relu', data_format='channels_last'))\n",
    "# results in a (2 x 2 x 64) output volume\n",
    "model.add(Convolution2D(64, (3, 3), activation='relu', data_format='channels_last'))\n",
    "# flattens the result (vector of size 256)\n",
    "model.add(Flatten())\n",
    "# add fully-connected layer\n",
    "model.add(Dense(128, activation='relu'))\n",
    "# map to output: coordinates and move\n",
    "model.add(Dense(output_length, activation='linear'))\n",
    "print(model.summary())"
   ]
  },
  {
   "cell_type": "code",
   "execution_count": null,
   "metadata": {},
   "outputs": [],
   "source": []
  }
 ],
 "metadata": {
  "kernelspec": {
   "display_name": "Python 3",
   "language": "python",
   "name": "python3"
  },
  "language_info": {
   "codemirror_mode": {
    "name": "ipython",
    "version": 3
   },
   "file_extension": ".py",
   "mimetype": "text/x-python",
   "name": "python",
   "nbconvert_exporter": "python",
   "pygments_lexer": "ipython3",
   "version": "3.5.6"
  }
 },
 "nbformat": 4,
 "nbformat_minor": 2
}
